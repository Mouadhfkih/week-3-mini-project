{
 "cells": [
  {
   "cell_type": "code",
   "execution_count": 6,
   "id": "8baade90",
   "metadata": {},
   "outputs": [
    {
     "name": "stdout",
     "output_type": "stream",
     "text": [
      "2\n",
      "[8, 16, 32, 64, 128]\n"
     ]
    }
   ],
   "source": [
    "L=[4,8,16,32,64]\n",
    "T= []\n",
    "x= input()\n",
    "a= len(L)\n",
    "for i in range(0,a):\n",
    "    T.append(L[i]*int(x))\n",
    "print(T)"
   ]
  },
  {
   "cell_type": "code",
   "execution_count": 18,
   "id": "aec9deca",
   "metadata": {},
   "outputs": [
    {
     "name": "stdout",
     "output_type": "stream",
     "text": [
      "36\n"
     ]
    }
   ],
   "source": [
    "#question 1\n",
    "L=[2,3,6]\n",
    "a= len(L)\n",
    "s=1\n",
    "for i in range (0,int(a)):\n",
    "    s= s*L[i] \n",
    "print(s)"
   ]
  },
  {
   "cell_type": "code",
   "execution_count": 58,
   "id": "2af399ad",
   "metadata": {},
   "outputs": [
    {
     "name": "stdout",
     "output_type": "stream",
     "text": [
      "[5, 2, 4, 3, 1]\n",
      "[1, 2, 3, 4, 5]\n",
      "[(2, 1), (1, 2), (2, 3), (4, 4), (2, 5)]\n"
     ]
    }
   ],
   "source": [
    "# quesion 2\n",
    "list1= [(2,5),(1,2),(4,4),(2,3),(2,1)]\n",
    "a= len(list1)\n",
    "list2=[]\n",
    "for i in range (0,int(a)):\n",
    "    list2.append(list1[i][1])\n",
    "print(list2)\n",
    "list2.sort()\n",
    "print(list2)\n",
    "list3=[]\n",
    "for i in list2:\n",
    "    for j in list1:\n",
    "        if i == int(j[1]):\n",
    "            list3.append(j)\n",
    "print(list3)\n"
   ]
  },
  {
   "cell_type": "code",
   "execution_count": 73,
   "id": "53a6b365",
   "metadata": {},
   "outputs": [
    {
     "name": "stdout",
     "output_type": "stream",
     "text": [
      "{'a': 400, 'b': 400, 'c': 300, 'd': 400}\n"
     ]
    }
   ],
   "source": [
    "# question 3\n",
    "d1={'a':100,'b':200,'c':300}\n",
    "d2={'a':300,'b':200,'d':400}\n",
    "d3= dict(d1)\n",
    "d3.update(d2)\n",
    "x= len(d1)\n",
    "for i in d1.keys():\n",
    "    for j in d2.keys():\n",
    "        if i==j:\n",
    "            d3[i]= d1[i]+d2[j]\n",
    "\n",
    "print(d3)\n",
    "            "
   ]
  },
  {
   "cell_type": "code",
   "execution_count": 79,
   "id": "011e3132",
   "metadata": {},
   "outputs": [
    {
     "name": "stdout",
     "output_type": "stream",
     "text": [
      "8\n",
      "{1: 1, 2: 4, 3: 9, 4: 16, 5: 25, 6: 36, 7: 49, 8: 64}\n"
     ]
    }
   ],
   "source": [
    "# question 4\n",
    "n= input()\n",
    "dic={}\n",
    "for i in range (1,int(n)+1):\n",
    "    dic[i]= i*i\n",
    "print(dic)"
   ]
  },
  {
   "cell_type": "code",
   "execution_count": 94,
   "id": "46db48ff",
   "metadata": {},
   "outputs": [
    {
     "name": "stdout",
     "output_type": "stream",
     "text": [
      "[('item3', '24.5'), ('item2', '15.10'), ('item1', '12.20')]\n"
     ]
    }
   ],
   "source": [
    "# question 5\n",
    "list1=[('item1','12.20'),('item2','15.10'),('item3','24.5')]\n",
    "list1.sort(reverse=True)\n",
    "print(list1)"
   ]
  },
  {
   "cell_type": "code",
   "execution_count": null,
   "id": "82ba42bd",
   "metadata": {},
   "outputs": [],
   "source": []
  }
 ],
 "metadata": {
  "kernelspec": {
   "display_name": "Python 3 (ipykernel)",
   "language": "python",
   "name": "python3"
  },
  "language_info": {
   "codemirror_mode": {
    "name": "ipython",
    "version": 3
   },
   "file_extension": ".py",
   "mimetype": "text/x-python",
   "name": "python",
   "nbconvert_exporter": "python",
   "pygments_lexer": "ipython3",
   "version": "3.9.7"
  }
 },
 "nbformat": 4,
 "nbformat_minor": 5
}
